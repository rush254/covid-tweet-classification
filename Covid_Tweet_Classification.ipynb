{
  "nbformat": 4,
  "nbformat_minor": 0,
  "metadata": {
    "colab": {
      "provenance": [],
      "authorship_tag": "ABX9TyNh26r+kIA54I8ZsxkpLZbR",
      "include_colab_link": true
    },
    "kernelspec": {
      "name": "python3",
      "display_name": "Python 3"
    },
    "language_info": {
      "name": "python"
    }
  },
  "cells": [
    {
      "cell_type": "markdown",
      "metadata": {
        "id": "view-in-github",
        "colab_type": "text"
      },
      "source": [
        "<a href=\"https://colab.research.google.com/github/rush254/covid-tweet-classification/blob/main/Covid_Tweet_Classification.ipynb\" target=\"_parent\"><img src=\"https://colab.research.google.com/assets/colab-badge.svg\" alt=\"Open In Colab\"/></a>"
      ]
    },
    {
      "cell_type": "code",
      "execution_count": 1,
      "metadata": {
        "id": "ziTXCwtl1Hwk"
      },
      "outputs": [],
      "source": [
        "from mpl_toolkits.mplot3d import Axes3D\n",
        "from sklearn.preprocessing import StandardScaler\n",
        "import matplotlib.pyplot as plt # plotting\n",
        "import numpy as np # linear algebra\n",
        "import os # accessing directory structure\n",
        "import pandas as pd # data processing, CSV file I/O (e.g. pd.read_csv)"
      ]
    },
    {
      "cell_type": "code",
      "source": [
        "from google.colab import drive\n",
        "drive.mount('/content/drive', force_remount=True)"
      ],
      "metadata": {
        "colab": {
          "base_uri": "https://localhost:8080/"
        },
        "id": "_Re1HXt-2sfo",
        "outputId": "e91afac1-4a8f-48d4-d7a3-a7df8d99cfee"
      },
      "execution_count": 2,
      "outputs": [
        {
          "output_type": "stream",
          "name": "stdout",
          "text": [
            "Mounted at /content/drive\n"
          ]
        }
      ]
    },
    {
      "cell_type": "code",
      "source": [
        "!unzip /content/drive/MyDrive/Tensorflow/covid_tweets.zip"
      ],
      "metadata": {
        "colab": {
          "base_uri": "https://localhost:8080/"
        },
        "id": "irSWFv_42uWx",
        "outputId": "f6db68f8-3233-4a87-d7e2-ca748174ca83"
      },
      "execution_count": 3,
      "outputs": [
        {
          "output_type": "stream",
          "name": "stdout",
          "text": [
            "Archive:  /content/drive/MyDrive/Tensorflow/covid_tweets.zip\n",
            "  inflating: Corona_NLP_test.csv     \n",
            "  inflating: Corona_NLP_train.csv    \n"
          ]
        }
      ]
    },
    {
      "cell_type": "code",
      "source": [
        "train = pd.read_csv('/content/Corona_NLP_train.csv', encoding='latin1')\n",
        "test = pd.read_csv('/content/Corona_NLP_test.csv', encoding='latin1')"
      ],
      "metadata": {
        "id": "9O5eF_Ek3UIw"
      },
      "execution_count": 4,
      "outputs": []
    },
    {
      "cell_type": "code",
      "source": [
        "train.head()"
      ],
      "metadata": {
        "colab": {
          "base_uri": "https://localhost:8080/",
          "height": 206
        },
        "id": "qT_B2kQU3ggS",
        "outputId": "84a9cbd3-f38e-45a1-83e9-155136d629e7"
      },
      "execution_count": 5,
      "outputs": [
        {
          "output_type": "execute_result",
          "data": {
            "text/plain": [
              "   UserName  ScreenName   Location     TweetAt  \\\n",
              "0      3799       48751     London  16-03-2020   \n",
              "1      3800       48752         UK  16-03-2020   \n",
              "2      3801       48753  Vagabonds  16-03-2020   \n",
              "3      3802       48754        NaN  16-03-2020   \n",
              "4      3803       48755        NaN  16-03-2020   \n",
              "\n",
              "                                       OriginalTweet           Sentiment  \n",
              "0  @MeNyrbie @Phil_Gahan @Chrisitv https://t.co/i...             Neutral  \n",
              "1  advice Talk to your neighbours family to excha...            Positive  \n",
              "2  Coronavirus Australia: Woolworths to give elde...            Positive  \n",
              "3  My food stock is not the only one which is emp...            Positive  \n",
              "4  Me, ready to go at supermarket during the #COV...  Extremely Negative  "
            ],
            "text/html": [
              "\n",
              "  <div id=\"df-dccb2015-69c5-4c32-9605-a214c1498dbe\" class=\"colab-df-container\">\n",
              "    <div>\n",
              "<style scoped>\n",
              "    .dataframe tbody tr th:only-of-type {\n",
              "        vertical-align: middle;\n",
              "    }\n",
              "\n",
              "    .dataframe tbody tr th {\n",
              "        vertical-align: top;\n",
              "    }\n",
              "\n",
              "    .dataframe thead th {\n",
              "        text-align: right;\n",
              "    }\n",
              "</style>\n",
              "<table border=\"1\" class=\"dataframe\">\n",
              "  <thead>\n",
              "    <tr style=\"text-align: right;\">\n",
              "      <th></th>\n",
              "      <th>UserName</th>\n",
              "      <th>ScreenName</th>\n",
              "      <th>Location</th>\n",
              "      <th>TweetAt</th>\n",
              "      <th>OriginalTweet</th>\n",
              "      <th>Sentiment</th>\n",
              "    </tr>\n",
              "  </thead>\n",
              "  <tbody>\n",
              "    <tr>\n",
              "      <th>0</th>\n",
              "      <td>3799</td>\n",
              "      <td>48751</td>\n",
              "      <td>London</td>\n",
              "      <td>16-03-2020</td>\n",
              "      <td>@MeNyrbie @Phil_Gahan @Chrisitv https://t.co/i...</td>\n",
              "      <td>Neutral</td>\n",
              "    </tr>\n",
              "    <tr>\n",
              "      <th>1</th>\n",
              "      <td>3800</td>\n",
              "      <td>48752</td>\n",
              "      <td>UK</td>\n",
              "      <td>16-03-2020</td>\n",
              "      <td>advice Talk to your neighbours family to excha...</td>\n",
              "      <td>Positive</td>\n",
              "    </tr>\n",
              "    <tr>\n",
              "      <th>2</th>\n",
              "      <td>3801</td>\n",
              "      <td>48753</td>\n",
              "      <td>Vagabonds</td>\n",
              "      <td>16-03-2020</td>\n",
              "      <td>Coronavirus Australia: Woolworths to give elde...</td>\n",
              "      <td>Positive</td>\n",
              "    </tr>\n",
              "    <tr>\n",
              "      <th>3</th>\n",
              "      <td>3802</td>\n",
              "      <td>48754</td>\n",
              "      <td>NaN</td>\n",
              "      <td>16-03-2020</td>\n",
              "      <td>My food stock is not the only one which is emp...</td>\n",
              "      <td>Positive</td>\n",
              "    </tr>\n",
              "    <tr>\n",
              "      <th>4</th>\n",
              "      <td>3803</td>\n",
              "      <td>48755</td>\n",
              "      <td>NaN</td>\n",
              "      <td>16-03-2020</td>\n",
              "      <td>Me, ready to go at supermarket during the #COV...</td>\n",
              "      <td>Extremely Negative</td>\n",
              "    </tr>\n",
              "  </tbody>\n",
              "</table>\n",
              "</div>\n",
              "    <div class=\"colab-df-buttons\">\n",
              "\n",
              "  <div class=\"colab-df-container\">\n",
              "    <button class=\"colab-df-convert\" onclick=\"convertToInteractive('df-dccb2015-69c5-4c32-9605-a214c1498dbe')\"\n",
              "            title=\"Convert this dataframe to an interactive table.\"\n",
              "            style=\"display:none;\">\n",
              "\n",
              "  <svg xmlns=\"http://www.w3.org/2000/svg\" height=\"24px\" viewBox=\"0 -960 960 960\">\n",
              "    <path d=\"M120-120v-720h720v720H120Zm60-500h600v-160H180v160Zm220 220h160v-160H400v160Zm0 220h160v-160H400v160ZM180-400h160v-160H180v160Zm440 0h160v-160H620v160ZM180-180h160v-160H180v160Zm440 0h160v-160H620v160Z\"/>\n",
              "  </svg>\n",
              "    </button>\n",
              "\n",
              "  <style>\n",
              "    .colab-df-container {\n",
              "      display:flex;\n",
              "      gap: 12px;\n",
              "    }\n",
              "\n",
              "    .colab-df-convert {\n",
              "      background-color: #E8F0FE;\n",
              "      border: none;\n",
              "      border-radius: 50%;\n",
              "      cursor: pointer;\n",
              "      display: none;\n",
              "      fill: #1967D2;\n",
              "      height: 32px;\n",
              "      padding: 0 0 0 0;\n",
              "      width: 32px;\n",
              "    }\n",
              "\n",
              "    .colab-df-convert:hover {\n",
              "      background-color: #E2EBFA;\n",
              "      box-shadow: 0px 1px 2px rgba(60, 64, 67, 0.3), 0px 1px 3px 1px rgba(60, 64, 67, 0.15);\n",
              "      fill: #174EA6;\n",
              "    }\n",
              "\n",
              "    .colab-df-buttons div {\n",
              "      margin-bottom: 4px;\n",
              "    }\n",
              "\n",
              "    [theme=dark] .colab-df-convert {\n",
              "      background-color: #3B4455;\n",
              "      fill: #D2E3FC;\n",
              "    }\n",
              "\n",
              "    [theme=dark] .colab-df-convert:hover {\n",
              "      background-color: #434B5C;\n",
              "      box-shadow: 0px 1px 3px 1px rgba(0, 0, 0, 0.15);\n",
              "      filter: drop-shadow(0px 1px 2px rgba(0, 0, 0, 0.3));\n",
              "      fill: #FFFFFF;\n",
              "    }\n",
              "  </style>\n",
              "\n",
              "    <script>\n",
              "      const buttonEl =\n",
              "        document.querySelector('#df-dccb2015-69c5-4c32-9605-a214c1498dbe button.colab-df-convert');\n",
              "      buttonEl.style.display =\n",
              "        google.colab.kernel.accessAllowed ? 'block' : 'none';\n",
              "\n",
              "      async function convertToInteractive(key) {\n",
              "        const element = document.querySelector('#df-dccb2015-69c5-4c32-9605-a214c1498dbe');\n",
              "        const dataTable =\n",
              "          await google.colab.kernel.invokeFunction('convertToInteractive',\n",
              "                                                    [key], {});\n",
              "        if (!dataTable) return;\n",
              "\n",
              "        const docLinkHtml = 'Like what you see? Visit the ' +\n",
              "          '<a target=\"_blank\" href=https://colab.research.google.com/notebooks/data_table.ipynb>data table notebook</a>'\n",
              "          + ' to learn more about interactive tables.';\n",
              "        element.innerHTML = '';\n",
              "        dataTable['output_type'] = 'display_data';\n",
              "        await google.colab.output.renderOutput(dataTable, element);\n",
              "        const docLink = document.createElement('div');\n",
              "        docLink.innerHTML = docLinkHtml;\n",
              "        element.appendChild(docLink);\n",
              "      }\n",
              "    </script>\n",
              "  </div>\n",
              "\n",
              "\n",
              "<div id=\"df-89ea511e-e17a-4858-ad25-81b46c539ec8\">\n",
              "  <button class=\"colab-df-quickchart\" onclick=\"quickchart('df-89ea511e-e17a-4858-ad25-81b46c539ec8')\"\n",
              "            title=\"Suggest charts\"\n",
              "            style=\"display:none;\">\n",
              "\n",
              "<svg xmlns=\"http://www.w3.org/2000/svg\" height=\"24px\"viewBox=\"0 0 24 24\"\n",
              "     width=\"24px\">\n",
              "    <g>\n",
              "        <path d=\"M19 3H5c-1.1 0-2 .9-2 2v14c0 1.1.9 2 2 2h14c1.1 0 2-.9 2-2V5c0-1.1-.9-2-2-2zM9 17H7v-7h2v7zm4 0h-2V7h2v10zm4 0h-2v-4h2v4z\"/>\n",
              "    </g>\n",
              "</svg>\n",
              "  </button>\n",
              "\n",
              "<style>\n",
              "  .colab-df-quickchart {\n",
              "      --bg-color: #E8F0FE;\n",
              "      --fill-color: #1967D2;\n",
              "      --hover-bg-color: #E2EBFA;\n",
              "      --hover-fill-color: #174EA6;\n",
              "      --disabled-fill-color: #AAA;\n",
              "      --disabled-bg-color: #DDD;\n",
              "  }\n",
              "\n",
              "  [theme=dark] .colab-df-quickchart {\n",
              "      --bg-color: #3B4455;\n",
              "      --fill-color: #D2E3FC;\n",
              "      --hover-bg-color: #434B5C;\n",
              "      --hover-fill-color: #FFFFFF;\n",
              "      --disabled-bg-color: #3B4455;\n",
              "      --disabled-fill-color: #666;\n",
              "  }\n",
              "\n",
              "  .colab-df-quickchart {\n",
              "    background-color: var(--bg-color);\n",
              "    border: none;\n",
              "    border-radius: 50%;\n",
              "    cursor: pointer;\n",
              "    display: none;\n",
              "    fill: var(--fill-color);\n",
              "    height: 32px;\n",
              "    padding: 0;\n",
              "    width: 32px;\n",
              "  }\n",
              "\n",
              "  .colab-df-quickchart:hover {\n",
              "    background-color: var(--hover-bg-color);\n",
              "    box-shadow: 0 1px 2px rgba(60, 64, 67, 0.3), 0 1px 3px 1px rgba(60, 64, 67, 0.15);\n",
              "    fill: var(--button-hover-fill-color);\n",
              "  }\n",
              "\n",
              "  .colab-df-quickchart-complete:disabled,\n",
              "  .colab-df-quickchart-complete:disabled:hover {\n",
              "    background-color: var(--disabled-bg-color);\n",
              "    fill: var(--disabled-fill-color);\n",
              "    box-shadow: none;\n",
              "  }\n",
              "\n",
              "  .colab-df-spinner {\n",
              "    border: 2px solid var(--fill-color);\n",
              "    border-color: transparent;\n",
              "    border-bottom-color: var(--fill-color);\n",
              "    animation:\n",
              "      spin 1s steps(1) infinite;\n",
              "  }\n",
              "\n",
              "  @keyframes spin {\n",
              "    0% {\n",
              "      border-color: transparent;\n",
              "      border-bottom-color: var(--fill-color);\n",
              "      border-left-color: var(--fill-color);\n",
              "    }\n",
              "    20% {\n",
              "      border-color: transparent;\n",
              "      border-left-color: var(--fill-color);\n",
              "      border-top-color: var(--fill-color);\n",
              "    }\n",
              "    30% {\n",
              "      border-color: transparent;\n",
              "      border-left-color: var(--fill-color);\n",
              "      border-top-color: var(--fill-color);\n",
              "      border-right-color: var(--fill-color);\n",
              "    }\n",
              "    40% {\n",
              "      border-color: transparent;\n",
              "      border-right-color: var(--fill-color);\n",
              "      border-top-color: var(--fill-color);\n",
              "    }\n",
              "    60% {\n",
              "      border-color: transparent;\n",
              "      border-right-color: var(--fill-color);\n",
              "    }\n",
              "    80% {\n",
              "      border-color: transparent;\n",
              "      border-right-color: var(--fill-color);\n",
              "      border-bottom-color: var(--fill-color);\n",
              "    }\n",
              "    90% {\n",
              "      border-color: transparent;\n",
              "      border-bottom-color: var(--fill-color);\n",
              "    }\n",
              "  }\n",
              "</style>\n",
              "\n",
              "  <script>\n",
              "    async function quickchart(key) {\n",
              "      const quickchartButtonEl =\n",
              "        document.querySelector('#' + key + ' button');\n",
              "      quickchartButtonEl.disabled = true;  // To prevent multiple clicks.\n",
              "      quickchartButtonEl.classList.add('colab-df-spinner');\n",
              "      try {\n",
              "        const charts = await google.colab.kernel.invokeFunction(\n",
              "            'suggestCharts', [key], {});\n",
              "      } catch (error) {\n",
              "        console.error('Error during call to suggestCharts:', error);\n",
              "      }\n",
              "      quickchartButtonEl.classList.remove('colab-df-spinner');\n",
              "      quickchartButtonEl.classList.add('colab-df-quickchart-complete');\n",
              "    }\n",
              "    (() => {\n",
              "      let quickchartButtonEl =\n",
              "        document.querySelector('#df-89ea511e-e17a-4858-ad25-81b46c539ec8 button');\n",
              "      quickchartButtonEl.style.display =\n",
              "        google.colab.kernel.accessAllowed ? 'block' : 'none';\n",
              "    })();\n",
              "  </script>\n",
              "</div>\n",
              "\n",
              "    </div>\n",
              "  </div>\n"
            ],
            "application/vnd.google.colaboratory.intrinsic+json": {
              "type": "dataframe",
              "variable_name": "train",
              "summary": "{\n  \"name\": \"train\",\n  \"rows\": 41157,\n  \"fields\": [\n    {\n      \"column\": \"UserName\",\n      \"properties\": {\n        \"dtype\": \"number\",\n        \"std\": 11881,\n        \"min\": 3799,\n        \"max\": 44955,\n        \"num_unique_values\": 41157,\n        \"samples\": [\n          34888,\n          39363,\n          3943\n        ],\n        \"semantic_type\": \"\",\n        \"description\": \"\"\n      }\n    },\n    {\n      \"column\": \"ScreenName\",\n      \"properties\": {\n        \"dtype\": \"number\",\n        \"std\": 11881,\n        \"min\": 48751,\n        \"max\": 89907,\n        \"num_unique_values\": 41157,\n        \"samples\": [\n          79840,\n          84315,\n          48895\n        ],\n        \"semantic_type\": \"\",\n        \"description\": \"\"\n      }\n    },\n    {\n      \"column\": \"Location\",\n      \"properties\": {\n        \"dtype\": \"category\",\n        \"num_unique_values\": 12220,\n        \"samples\": [\n          \"Killeen, TX\",\n          \"Richmond VA\",\n          \"El Dorado\"\n        ],\n        \"semantic_type\": \"\",\n        \"description\": \"\"\n      }\n    },\n    {\n      \"column\": \"TweetAt\",\n      \"properties\": {\n        \"dtype\": \"object\",\n        \"num_unique_values\": 30,\n        \"samples\": [\n          \"12-04-2020\",\n          \"31-03-2020\",\n          \"08-04-2020\"\n        ],\n        \"semantic_type\": \"\",\n        \"description\": \"\"\n      }\n    },\n    {\n      \"column\": \"OriginalTweet\",\n      \"properties\": {\n        \"dtype\": \"string\",\n        \"num_unique_values\": 41157,\n        \"samples\": [\n          \" Without the there would not be any problem whatsoever People are getting worried about the supply chain   Prices for key food staples are starting to soar in some parts of the world via\",\n          \"Rice &amp; wheat prices surge amid fears Covid-19 lockdown may threaten global food security\\r\\r\\nIncreased panic buying of food due to coronavirus lockdowns has led to price spikes for  world\\u00c2\\u0092s two staple grains, rice&amp; wheat. Importers rushed to stockpile goods\\r\\r\\n https://t.co/0qOv3jAp9m\",\n          \"When the government says to start social distancing, but you work retail so you can't just not talk to customers in the store lol fml I'm 100% going to catch covid-19\"\n        ],\n        \"semantic_type\": \"\",\n        \"description\": \"\"\n      }\n    },\n    {\n      \"column\": \"Sentiment\",\n      \"properties\": {\n        \"dtype\": \"category\",\n        \"num_unique_values\": 5,\n        \"samples\": [\n          \"Positive\",\n          \"Extremely Positive\",\n          \"Extremely Negative\"\n        ],\n        \"semantic_type\": \"\",\n        \"description\": \"\"\n      }\n    }\n  ]\n}"
            }
          },
          "metadata": {},
          "execution_count": 5
        }
      ]
    },
    {
      "cell_type": "code",
      "source": [
        "import matplotlib.pyplot as plt\n",
        "sentiment_counts = train['Sentiment'].value_counts()\n",
        "# Plotting the sentiment counts\n",
        "plt.figure(figsize=(10, 6))\n",
        "sentiment_counts.plot(kind='bar', color=['blue', 'green', 'red'])\n",
        "plt.title('Sentiment Counts')\n",
        "plt.xlabel('Sentiment')\n",
        "plt.ylabel('Count')\n",
        "plt.xticks(rotation=45)\n",
        "plt.show()"
      ],
      "metadata": {
        "colab": {
          "base_uri": "https://localhost:8080/",
          "height": 657
        },
        "id": "CR5cxM0dXMPu",
        "outputId": "7f585eba-c68b-4249-f512-0a8e67460025"
      },
      "execution_count": 6,
      "outputs": [
        {
          "output_type": "display_data",
          "data": {
            "text/plain": [
              "<Figure size 1000x600 with 1 Axes>"
            ],
            "image/png": "[encoded data removed]"
          },
          "metadata": {}
        }
      ]
    },
    {
      "cell_type": "code",
      "source": [
        "def combine_sentiments(sentiment):\n",
        "    if sentiment in [\"Extremely Positive\", \"Positive\"]:\n",
        "        return \"Positive\"\n",
        "    elif sentiment in [\"Extremely Negative\", \"Negative\"]:\n",
        "        return \"Negative\"\n",
        "    else:\n",
        "        return \"Neutral\"\n",
        "\n",
        "# Apply the function to combine sentiments\n",
        "train['Sentiment'] = train['Sentiment'].apply(combine_sentiments)\n",
        "test['Sentiment'] = test['Sentiment'].apply(combine_sentiments)\n",
        "\n",
        "# Get the count of each combined sentiment\n",
        "combined_sentiment_counts = train['Sentiment'].value_counts()\n",
        "\n",
        "# Plotting the combined sentiment counts\n",
        "plt.figure(figsize=(10, 6))\n",
        "combined_sentiment_counts.plot(kind='bar', color=['blue', 'green', 'red'])\n",
        "plt.title('Combined Sentiment Counts')\n",
        "plt.xlabel('Sentiment')\n",
        "plt.ylabel('Count')\n",
        "plt.xticks(rotation=45)\n",
        "plt.show()"
      ],
      "metadata": {
        "colab": {
          "base_uri": "https://localhost:8080/",
          "height": 604
        },
        "id": "rZuYcL8cRoge",
        "outputId": "f630928a-23c0-4edf-ff71-2b658251a165"
      },
      "execution_count": 7,
      "outputs": [
        {
          "output_type": "display_data",
          "data": {
            "text/plain": [
              "<Figure size 1000x600 with 1 Axes>"
            ],
            "image/png": "[encoded data removed]"
          },
          "metadata": {}
        }
      ]
    },
    {
      "cell_type": "code",
      "source": [
        "#@title Preprocessing Tweets\n",
        "\n",
        "import re\n",
        "\n",
        "def preprocess_tweet(text):\n",
        "    # Replace numbers with '@'\n",
        "    text = re.sub(r'\\d+', '@', text)\n",
        "\n",
        "    # Replace URLs with '[WEBSITE]'\n",
        "    url_pattern = r'https?://\\S+|www\\.\\S+'\n",
        "    text = re.sub(url_pattern, '[WEBSITE]', text)\n",
        "\n",
        "    # Remove hashtags, mentions, and other non-alphanumeric characters\n",
        "    text = re.sub(r'@\\w+', '', text)  # Remove mentions\n",
        "    text = ' '.join(re.sub(r\"(@[A-Za-z0-9]+)|([^0-9A-Za-z \\t])|(\\w+:\\/\\/\\S+)\", \" \", text).split())  # Remove hashtags and other non-alphanumeric characters\n",
        "\n",
        "    return text\n",
        "\n",
        "# Apply the preprocessing function to the datasets\n",
        "train['text'] = train['OriginalTweet'].apply(preprocess_tweet)\n",
        "test['text'] = test['OriginalTweet'].apply(preprocess_tweet)"
      ],
      "metadata": {
        "id": "RY6zZt86CXeu"
      },
      "execution_count": 8,
      "outputs": []
    },
    {
      "cell_type": "code",
      "source": [
        "train.sample(10)"
      ],
      "metadata": {
        "colab": {
          "base_uri": "https://localhost:8080/",
          "height": 363
        },
        "id": "cRrtOb9PDfIq",
        "outputId": "46d9c554-ae01-4484-bcd0-b756871899ca"
      },
      "execution_count": 29,
      "outputs": [
        {
          "output_type": "execute_result",
          "data": {
            "text/plain": [
              "       UserName  ScreenName                Location     TweetAt  \\\n",
              "20598     24397       69349          lagos, NIGERIA  25-03-2020   \n",
              "4755       8554       53506  City of London, London  18-03-2020   \n",
              "20078     23877       68829             New Zealand  24-03-2020   \n",
              "30017     33816       78768            Longview, TX  06-04-2020   \n",
              "9639      13438       58390                     NaN  20-03-2020   \n",
              "39456     43255       88207                  Brasil  13-04-2020   \n",
              "39836     43635       88587                     NaN  13-04-2020   \n",
              "383        4182       49134                  Russia  16-03-2020   \n",
              "24624     28423       73375                  Punjab  27-03-2020   \n",
              "31584     35383       80335        Denver, Colorado  07-04-2020   \n",
              "\n",
              "                                           OriginalTweet Sentiment  \\\n",
              "20598  Prices of consumables and edibles are skyrocke...  Negative   \n",
              "4755   Looked at the stampeding video for grabbing to...  Positive   \n",
              "20078  Covid 19 coronavirus in NZ: Chicken sparks gan...  Negative   \n",
              "30017  ÂI was #FoodInsecure for #years. #Affluent pe...  Positive   \n",
              "9639   Paul McNamme Big Issue A universal basic incom...  Negative   \n",
              "39456  Good morning on We hope you re enjoying your w...  Positive   \n",
              "39836  The average price of regular gas fell 14 cents...  Negative   \n",
              "383    Some thoughts and raw prognosis according to t...  Positive   \n",
              "24624  Imagine if our Trading Standards took the same...   Neutral   \n",
              "31584  Like Centennial State craft breweries, local w...  Positive   \n",
              "\n",
              "                                                    text  \n",
              "20598  Prices of consumables and edibles are skyrocke...  \n",
              "4755   Looked at the stampeding video for grabbing to...  \n",
              "20078  Covid coronavirus in NZ Chicken sparks gang fi...  \n",
              "30017  I was FoodInsecure for years Affluent people m...  \n",
              "9639   Paul McNamme Big Issue A universal basic incom...  \n",
              "39456  Good morning on We hope you re enjoying your w...  \n",
              "39836  The average price of regular gas fell cents in...  \n",
              "383    Some thoughts and raw prognosis according to t...  \n",
              "24624  Imagine if our Trading Standards took the same...  \n",
              "31584  Like Centennial State craft breweries local wi...  "
            ],
            "text/html": [
              "\n",
              "  <div id=\"df-f5345fdc-9d93-499e-9720-b8ec26a3ed9f\" class=\"colab-df-container\">\n",
              "    <div>\n",
              "<style scoped>\n",
              "    .dataframe tbody tr th:only-of-type {\n",
              "        vertical-align: middle;\n",
              "    }\n",
              "\n",
              "    .dataframe tbody tr th {\n",
              "        vertical-align: top;\n",
              "    }\n",
              "\n",
              "    .dataframe thead th {\n",
              "        text-align: right;\n",
              "    }\n",
              "</style>\n",
              "<table border=\"1\" class=\"dataframe\">\n",
              "  <thead>\n",
              "    <tr style=\"text-align: right;\">\n",
              "      <th></th>\n",
              "      <th>UserName</th>\n",
              "      <th>ScreenName</th>\n",
              "      <th>Location</th>\n",
              "      <th>TweetAt</th>\n",
              "      <th>OriginalTweet</th>\n",
              "      <th>Sentiment</th>\n",
              "      <th>text</th>\n",
              "    </tr>\n",
              "  </thead>\n",
              "  <tbody>\n",
              "    <tr>\n",
              "      <th>20598</th>\n",
              "      <td>24397</td>\n",
              "      <td>69349</td>\n",
              "      <td>lagos, NIGERIA</td>\n",
              "      <td>25-03-2020</td>\n",
              "      <td>Prices of consumables and edibles are skyrocke...</td>\n",
              "      <td>Negative</td>\n",
              "      <td>Prices of consumables and edibles are skyrocke...</td>\n",
              "    </tr>\n",
              "    <tr>\n",
              "      <th>4755</th>\n",
              "      <td>8554</td>\n",
              "      <td>53506</td>\n",
              "      <td>City of London, London</td>\n",
              "      <td>18-03-2020</td>\n",
              "      <td>Looked at the stampeding video for grabbing to...</td>\n",
              "      <td>Positive</td>\n",
              "      <td>Looked at the stampeding video for grabbing to...</td>\n",
              "    </tr>\n",
              "    <tr>\n",
              "      <th>20078</th>\n",
              "      <td>23877</td>\n",
              "      <td>68829</td>\n",
              "      <td>New Zealand</td>\n",
              "      <td>24-03-2020</td>\n",
              "      <td>Covid 19 coronavirus in NZ: Chicken sparks gan...</td>\n",
              "      <td>Negative</td>\n",
              "      <td>Covid coronavirus in NZ Chicken sparks gang fi...</td>\n",
              "    </tr>\n",
              "    <tr>\n",
              "      <th>30017</th>\n",
              "      <td>33816</td>\n",
              "      <td>78768</td>\n",
              "      <td>Longview, TX</td>\n",
              "      <td>06-04-2020</td>\n",
              "      <td>ÂI was #FoodInsecure for #years. #Affluent pe...</td>\n",
              "      <td>Positive</td>\n",
              "      <td>I was FoodInsecure for years Affluent people m...</td>\n",
              "    </tr>\n",
              "    <tr>\n",
              "      <th>9639</th>\n",
              "      <td>13438</td>\n",
              "      <td>58390</td>\n",
              "      <td>NaN</td>\n",
              "      <td>20-03-2020</td>\n",
              "      <td>Paul McNamme Big Issue A universal basic incom...</td>\n",
              "      <td>Negative</td>\n",
              "      <td>Paul McNamme Big Issue A universal basic incom...</td>\n",
              "    </tr>\n",
              "    <tr>\n",
              "      <th>39456</th>\n",
              "      <td>43255</td>\n",
              "      <td>88207</td>\n",
              "      <td>Brasil</td>\n",
              "      <td>13-04-2020</td>\n",
              "      <td>Good morning on We hope you re enjoying your w...</td>\n",
              "      <td>Positive</td>\n",
              "      <td>Good morning on We hope you re enjoying your w...</td>\n",
              "    </tr>\n",
              "    <tr>\n",
              "      <th>39836</th>\n",
              "      <td>43635</td>\n",
              "      <td>88587</td>\n",
              "      <td>NaN</td>\n",
              "      <td>13-04-2020</td>\n",
              "      <td>The average price of regular gas fell 14 cents...</td>\n",
              "      <td>Negative</td>\n",
              "      <td>The average price of regular gas fell cents in...</td>\n",
              "    </tr>\n",
              "    <tr>\n",
              "      <th>383</th>\n",
              "      <td>4182</td>\n",
              "      <td>49134</td>\n",
              "      <td>Russia</td>\n",
              "      <td>16-03-2020</td>\n",
              "      <td>Some thoughts and raw prognosis according to t...</td>\n",
              "      <td>Positive</td>\n",
              "      <td>Some thoughts and raw prognosis according to t...</td>\n",
              "    </tr>\n",
              "    <tr>\n",
              "      <th>24624</th>\n",
              "      <td>28423</td>\n",
              "      <td>73375</td>\n",
              "      <td>Punjab</td>\n",
              "      <td>27-03-2020</td>\n",
              "      <td>Imagine if our Trading Standards took the same...</td>\n",
              "      <td>Neutral</td>\n",
              "      <td>Imagine if our Trading Standards took the same...</td>\n",
              "    </tr>\n",
              "    <tr>\n",
              "      <th>31584</th>\n",
              "      <td>35383</td>\n",
              "      <td>80335</td>\n",
              "      <td>Denver, Colorado</td>\n",
              "      <td>07-04-2020</td>\n",
              "      <td>Like Centennial State craft breweries, local w...</td>\n",
              "      <td>Positive</td>\n",
              "      <td>Like Centennial State craft breweries local wi...</td>\n",
              "    </tr>\n",
              "  </tbody>\n",
              "</table>\n",
              "</div>\n",
              "    <div class=\"colab-df-buttons\">\n",
              "\n",
              "  <div class=\"colab-df-container\">\n",
              "    <button class=\"colab-df-convert\" onclick=\"convertToInteractive('df-f5345fdc-9d93-499e-9720-b8ec26a3ed9f')\"\n",
              "            title=\"Convert this dataframe to an interactive table.\"\n",
              "            style=\"display:none;\">\n",
              "\n",
              "  <svg xmlns=\"http://www.w3.org/2000/svg\" height=\"24px\" viewBox=\"0 -960 960 960\">\n",
              "    <path d=\"M120-120v-720h720v720H120Zm60-500h600v-160H180v160Zm220 220h160v-160H400v160Zm0 220h160v-160H400v160ZM180-400h160v-160H180v160Zm440 0h160v-160H620v160ZM180-180h160v-160H180v160Zm440 0h160v-160H620v160Z\"/>\n",
              "  </svg>\n",
              "    </button>\n",
              "\n",
              "  <style>\n",
              "    .colab-df-container {\n",
              "      display:flex;\n",
              "      gap: 12px;\n",
              "    }\n",
              "\n",
              "    .colab-df-convert {\n",
              "      background-color: #E8F0FE;\n",
              "      border: none;\n",
              "      border-radius: 50%;\n",
              "      cursor: pointer;\n",
              "      display: none;\n",
              "      fill: #1967D2;\n",
              "      height: 32px;\n",
              "      padding: 0 0 0 0;\n",
              "      width: 32px;\n",
              "    }\n",
              "\n",
              "    .colab-df-convert:hover {\n",
              "      background-color: #E2EBFA;\n",
              "      box-shadow: 0px 1px 2px rgba(60, 64, 67, 0.3), 0px 1px 3px 1px rgba(60, 64, 67, 0.15);\n",
              "      fill: #174EA6;\n",
              "    }\n",
              "\n",
              "    .colab-df-buttons div {\n",
              "      margin-bottom: 4px;\n",
              "    }\n",
              "\n",
              "    [theme=dark] .colab-df-convert {\n",
              "      background-color: #3B4455;\n",
              "      fill: #D2E3FC;\n",
              "    }\n",
              "\n",
              "    [theme=dark] .colab-df-convert:hover {\n",
              "      background-color: #434B5C;\n",
              "      box-shadow: 0px 1px 3px 1px rgba(0, 0, 0, 0.15);\n",
              "      filter: drop-shadow(0px 1px 2px rgba(0, 0, 0, 0.3));\n",
              "      fill: #FFFFFF;\n",
              "    }\n",
              "  </style>\n",
              "\n",
              "    <script>\n",
              "      const buttonEl =\n",
              "        document.querySelector('#df-f5345fdc-9d93-499e-9720-b8ec26a3ed9f button.colab-df-convert');\n",
              "      buttonEl.style.display =\n",
              "        google.colab.kernel.accessAllowed ? 'block' : 'none';\n",
              "\n",
              "      async function convertToInteractive(key) {\n",
              "        const element = document.querySelector('#df-f5345fdc-9d93-499e-9720-b8ec26a3ed9f');\n",
              "        const dataTable =\n",
              "          await google.colab.kernel.invokeFunction('convertToInteractive',\n",
              "                                                    [key], {});\n",
              "        if (!dataTable) return;\n",
              "\n",
              "        const docLinkHtml = 'Like what you see? Visit the ' +\n",
              "          '<a target=\"_blank\" href=https://colab.research.google.com/notebooks/data_table.ipynb>data table notebook</a>'\n",
              "          + ' to learn more about interactive tables.';\n",
              "        element.innerHTML = '';\n",
              "        dataTable['output_type'] = 'display_data';\n",
              "        await google.colab.output.renderOutput(dataTable, element);\n",
              "        const docLink = document.createElement('div');\n",
              "        docLink.innerHTML = docLinkHtml;\n",
              "        element.appendChild(docLink);\n",
              "      }\n",
              "    </script>\n",
              "  </div>\n",
              "\n",
              "\n",
              "<div id=\"df-42e11349-e4c5-486b-831e-142ea0ad2201\">\n",
              "  <button class=\"colab-df-quickchart\" onclick=\"quickchart('df-42e11349-e4c5-486b-831e-142ea0ad2201')\"\n",
              "            title=\"Suggest charts\"\n",
              "            style=\"display:none;\">\n",
              "\n",
              "<svg xmlns=\"http://www.w3.org/2000/svg\" height=\"24px\"viewBox=\"0 0 24 24\"\n",
              "     width=\"24px\">\n",
              "    <g>\n",
              "        <path d=\"M19 3H5c-1.1 0-2 .9-2 2v14c0 1.1.9 2 2 2h14c1.1 0 2-.9 2-2V5c0-1.1-.9-2-2-2zM9 17H7v-7h2v7zm4 0h-2V7h2v10zm4 0h-2v-4h2v4z\"/>\n",
              "    </g>\n",
              "</svg>\n",
              "  </button>\n",
              "\n",
              "<style>\n",
              "  .colab-df-quickchart {\n",
              "      --bg-color: #E8F0FE;\n",
              "      --fill-color: #1967D2;\n",
              "      --hover-bg-color: #E2EBFA;\n",
              "      --hover-fill-color: #174EA6;\n",
              "      --disabled-fill-color: #AAA;\n",
              "      --disabled-bg-color: #DDD;\n",
              "  }\n",
              "\n",
              "  [theme=dark] .colab-df-quickchart {\n",
              "      --bg-color: #3B4455;\n",
              "      --fill-color: #D2E3FC;\n",
              "      --hover-bg-color: #434B5C;\n",
              "      --hover-fill-color: #FFFFFF;\n",
              "      --disabled-bg-color: #3B4455;\n",
              "      --disabled-fill-color: #666;\n",
              "  }\n",
              "\n",
              "  .colab-df-quickchart {\n",
              "    background-color: var(--bg-color);\n",
              "    border: none;\n",
              "    border-radius: 50%;\n",
              "    cursor: pointer;\n",
              "    display: none;\n",
              "    fill: var(--fill-color);\n",
              "    height: 32px;\n",
              "    padding: 0;\n",
              "    width: 32px;\n",
              "  }\n",
              "\n",
              "  .colab-df-quickchart:hover {\n",
              "    background-color: var(--hover-bg-color);\n",
              "    box-shadow: 0 1px 2px rgba(60, 64, 67, 0.3), 0 1px 3px 1px rgba(60, 64, 67, 0.15);\n",
              "    fill: var(--button-hover-fill-color);\n",
              "  }\n",
              "\n",
              "  .colab-df-quickchart-complete:disabled,\n",
              "  .colab-df-quickchart-complete:disabled:hover {\n",
              "    background-color: var(--disabled-bg-color);\n",
              "    fill: var(--disabled-fill-color);\n",
              "    box-shadow: none;\n",
              "  }\n",
              "\n",
              "  .colab-df-spinner {\n",
              "    border: 2px solid var(--fill-color);\n",
              "    border-color: transparent;\n",
              "    border-bottom-color: var(--fill-color);\n",
              "    animation:\n",
              "      spin 1s steps(1) infinite;\n",
              "  }\n",
              "\n",
              "  @keyframes spin {\n",
              "    0% {\n",
              "      border-color: transparent;\n",
              "      border-bottom-color: var(--fill-color);\n",
              "      border-left-color: var(--fill-color);\n",
              "    }\n",
              "    20% {\n",
              "      border-color: transparent;\n",
              "      border-left-color: var(--fill-color);\n",
              "      border-top-color: var(--fill-color);\n",
              "    }\n",
              "    30% {\n",
              "      border-color: transparent;\n",
              "      border-left-color: var(--fill-color);\n",
              "      border-top-color: var(--fill-color);\n",
              "      border-right-color: var(--fill-color);\n",
              "    }\n",
              "    40% {\n",
              "      border-color: transparent;\n",
              "      border-right-color: var(--fill-color);\n",
              "      border-top-color: var(--fill-color);\n",
              "    }\n",
              "    60% {\n",
              "      border-color: transparent;\n",
              "      border-right-color: var(--fill-color);\n",
              "    }\n",
              "    80% {\n",
              "      border-color: transparent;\n",
              "      border-right-color: var(--fill-color);\n",
              "      border-bottom-color: var(--fill-color);\n",
              "    }\n",
              "    90% {\n",
              "      border-color: transparent;\n",
              "      border-bottom-color: var(--fill-color);\n",
              "    }\n",
              "  }\n",
              "</style>\n",
              "\n",
              "  <script>\n",
              "    async function quickchart(key) {\n",
              "      const quickchartButtonEl =\n",
              "        document.querySelector('#' + key + ' button');\n",
              "      quickchartButtonEl.disabled = true;  // To prevent multiple clicks.\n",
              "      quickchartButtonEl.classList.add('colab-df-spinner');\n",
              "      try {\n",
              "        const charts = await google.colab.kernel.invokeFunction(\n",
              "            'suggestCharts', [key], {});\n",
              "      } catch (error) {\n",
              "        console.error('Error during call to suggestCharts:', error);\n",
              "      }\n",
              "      quickchartButtonEl.classList.remove('colab-df-spinner');\n",
              "      quickchartButtonEl.classList.add('colab-df-quickchart-complete');\n",
              "    }\n",
              "    (() => {\n",
              "      let quickchartButtonEl =\n",
              "        document.querySelector('#df-42e11349-e4c5-486b-831e-142ea0ad2201 button');\n",
              "      quickchartButtonEl.style.display =\n",
              "        google.colab.kernel.accessAllowed ? 'block' : 'none';\n",
              "    })();\n",
              "  </script>\n",
              "</div>\n",
              "\n",
              "    </div>\n",
              "  </div>\n"
            ],
            "application/vnd.google.colaboratory.intrinsic+json": {
              "type": "dataframe",
              "repr_error": "0"
            }
          },
          "metadata": {},
          "execution_count": 29
        }
      ]
    },
    {
      "cell_type": "code",
      "source": [
        "#@title Sentence Length\n",
        "import matplotlib.pyplot as plt\n",
        "\n",
        "# How long is each sentence on average?\n",
        "sent_lens = [len(sentence.split()) for sentence in train['text']]\n",
        "\n",
        "# What's the distribution look like?\n",
        "plt.hist(sent_lens, bins=7);\n",
        "\n",
        "print(f'95% interval: {int(np.percentile(sent_lens, 95))}')"
      ],
      "metadata": {
        "colab": {
          "base_uri": "https://localhost:8080/",
          "height": 448
        },
        "id": "jN4nRyO3Fip3",
        "outputId": "dae3d659-8585-4e6e-bebd-bd9833f02f2b"
      },
      "execution_count": 10,
      "outputs": [
        {
          "output_type": "stream",
          "name": "stdout",
          "text": [
            "95% interval: 47\n"
          ]
        },
        {
          "output_type": "display_data",
          "data": {
            "text/plain": [
              "<Figure size 640x480 with 1 Axes>"
            ],
            "image/png": "[encoded data removed]"
          },
          "metadata": {}
        }
      ]
    },
    {
      "cell_type": "code",
      "source": [
        "#@title Vocab Length\n",
        "\n",
        "import nltk\n",
        "from nltk.tokenize import word_tokenize\n",
        "\n",
        "nltk.download('punkt')\n",
        "\n",
        "# Concatenate all text data into a single string\n",
        "all_text = ' '.join(train['text'])\n",
        "\n",
        "# Tokenize the string into words\n",
        "words = word_tokenize(all_text)\n",
        "\n",
        "# Get the total number of unique words\n",
        "total_unique_words = len(set(words))\n",
        "\n",
        "print(\"Total unique words:\", total_unique_words)"
      ],
      "metadata": {
        "colab": {
          "base_uri": "https://localhost:8080/"
        },
        "id": "otI8zIikFzjS",
        "outputId": "eecb04fd-5223-4857-94ed-e3994187ad9e"
      },
      "execution_count": 11,
      "outputs": [
        {
          "output_type": "stream",
          "name": "stderr",
          "text": [
            "[nltk_data] Downloading package punkt to /root/nltk_data...\n",
            "[nltk_data]   Unzipping tokenizers/punkt.zip.\n"
          ]
        },
        {
          "output_type": "stream",
          "name": "stdout",
          "text": [
            "Total unique words: 55929\n"
          ]
        }
      ]
    },
    {
      "cell_type": "code",
      "source": [
        "#@title Text Vectorizer\n",
        "\n",
        "from tensorflow.keras.layers import TextVectorization\n",
        "\n",
        "text_vectorizer = TextVectorization(max_tokens=56000, # number of words in vocabulary\n",
        "                                    output_sequence_length=50) # desired output length of vectorized sequences\n",
        "\n",
        "text_vectorizer.adapt(train['text'])"
      ],
      "metadata": {
        "id": "hGZ1IWve4h-U"
      },
      "execution_count": 33,
      "outputs": []
    },
    {
      "cell_type": "code",
      "source": [
        "#@title Embeddings\n",
        "from tensorflow.keras import layers\n",
        "\n",
        "# How many words in our training vocabulary?\n",
        "rct_20k_text_vocab = text_vectorizer.get_vocabulary()\n",
        "print(f\"Number of words in vocabulary: {len(rct_20k_text_vocab)}\"),\n",
        "\n",
        "# token embedding layer\n",
        "token_embed = layers.Embedding(input_dim=len(rct_20k_text_vocab), # length of vocabulary\n",
        "                               output_dim=128, # Note: different embedding sizes result in drastically different numbers of parameters to train\n",
        "                               mask_zero=True, # Use masking to handle variable sequence lengths (save space)\n",
        "                               name=\"token_embedding\")\n"
      ],
      "metadata": {
        "colab": {
          "base_uri": "https://localhost:8080/"
        },
        "id": "U-N3A4-5Hdtu",
        "outputId": "82bf7d7e-2d36-4e78-be7d-983be05d681d"
      },
      "execution_count": 34,
      "outputs": [
        {
          "output_type": "stream",
          "name": "stdout",
          "text": [
            "Number of words in vocabulary: 43040\n"
          ]
        }
      ]
    },
    {
      "cell_type": "code",
      "source": [
        "#@title Label Encoding\n",
        "\n",
        "# Extract labels (\"target\" columns) and encode them into integers\n",
        "from sklearn.preprocessing import LabelEncoder\n",
        "label_encoder = LabelEncoder()\n",
        "train_labels_encoded = label_encoder.fit_transform(train[\"Sentiment\"].to_numpy())\n",
        "test_labels_encoded = label_encoder.transform(test[\"Sentiment\"].to_numpy())\n",
        "\n",
        "# training labels\n",
        "print(train_labels_encoded)\n",
        "print(label_encoder.classes_)"
      ],
      "metadata": {
        "colab": {
          "base_uri": "https://localhost:8080/"
        },
        "id": "A5lez8NkKizo",
        "outputId": "a5d02501-ae5e-477f-cfe1-64f674d5d89d"
      },
      "execution_count": 35,
      "outputs": [
        {
          "output_type": "stream",
          "name": "stdout",
          "text": [
            "[1 2 2 ... 2 1 0]\n",
            "['Negative' 'Neutral' 'Positive']\n"
          ]
        }
      ]
    },
    {
      "cell_type": "code",
      "source": [
        "#@title TF Datasets\n",
        "import tensorflow as tf\n",
        "\n",
        "# Turn our data into TensorFlow Datasets\n",
        "train_dataset = tf.data.Dataset.from_tensor_slices((train['text'], train_labels_encoded))\n",
        "test_dataset = tf.data.Dataset.from_tensor_slices((test['text'], test_labels_encoded))\n",
        "\n",
        "# Take the TensorSliceDataset's and turn them into prefetched batches\n",
        "train_dataset = train_dataset.batch(32).prefetch(tf.data.AUTOTUNE)\n",
        "test_dataset = test_dataset.batch(32).prefetch(tf.data.AUTOTUNE)"
      ],
      "metadata": {
        "id": "9jzP6t-BILLM"
      },
      "execution_count": 36,
      "outputs": []
    },
    {
      "cell_type": "code",
      "source": [
        "num_classes = 3"
      ],
      "metadata": {
        "id": "qHq0ETL-JfUk"
      },
      "execution_count": 37,
      "outputs": []
    },
    {
      "cell_type": "code",
      "source": [
        "#@title Conv1D\n",
        "\n",
        "# Create 1-dimensional convolutional layer to model sequences\n",
        "inputs = layers.Input(shape=(1,), dtype=\"string\")\n",
        "x = text_vectorizer(inputs)\n",
        "x = token_embed(x)\n",
        "x = layers.Conv1D(64, kernel_size=5, padding=\"same\", activation=\"relu\")(x)\n",
        "x = layers.GlobalMaxPool1D()(x)\n",
        "# x = layers.Dense(64, activation=\"relu\")(x) # optional dense layer\n",
        "outputs = layers.Dense(num_classes, activation=\"softmax\")(x)\n",
        "model_1 = tf.keras.Model(inputs, outputs, name=\"model_1_Conv1D\")\n",
        "\n",
        "# Compile Conv1D model\n",
        "model_1.compile(loss=\"sparse_categorical_crossentropy\",\n",
        "                optimizer=tf.keras.optimizers.Adam(),\n",
        "                metrics=[\"accuracy\"])\n",
        "\n",
        "# Fit feature extractor model for 10 epochs\n",
        "model_1.fit(train_dataset,\n",
        "            steps_per_epoch=int(0.1 * len(train_dataset)),\n",
        "            epochs=10,\n",
        "            validation_data=test_dataset,\n",
        "            validation_steps=int(0.1 * len(test_dataset)))"
      ],
      "metadata": {
        "colab": {
          "base_uri": "https://localhost:8080/"
        },
        "id": "J_d7cB6CJjrI",
        "outputId": "a9153997-d24c-4993-c8be-5aedbf9f6436"
      },
      "execution_count": 38,
      "outputs": [
        {
          "output_type": "stream",
          "name": "stdout",
          "text": [
            "Epoch 1/10\n",
            "128/128 [==============================] - 15s 111ms/step - loss: 0.9944 - accuracy: 0.4866 - val_loss: 0.9755 - val_accuracy: 0.4943\n",
            "Epoch 2/10\n",
            "128/128 [==============================] - 14s 110ms/step - loss: 0.8330 - accuracy: 0.6260 - val_loss: 0.7921 - val_accuracy: 0.6676\n",
            "Epoch 3/10\n",
            "128/128 [==============================] - 13s 100ms/step - loss: 0.6700 - accuracy: 0.7432 - val_loss: 0.6607 - val_accuracy: 0.7670\n",
            "Epoch 4/10\n",
            "128/128 [==============================] - 14s 107ms/step - loss: 0.5711 - accuracy: 0.7842 - val_loss: 0.5710 - val_accuracy: 0.7926\n",
            "Epoch 5/10\n",
            "128/128 [==============================] - 14s 107ms/step - loss: 0.5223 - accuracy: 0.8154 - val_loss: 0.5912 - val_accuracy: 0.7926\n",
            "Epoch 6/10\n",
            "128/128 [==============================] - 13s 100ms/step - loss: 0.4972 - accuracy: 0.8293 - val_loss: 0.5543 - val_accuracy: 0.8182\n",
            "Epoch 7/10\n",
            "128/128 [==============================] - 16s 125ms/step - loss: 0.5120 - accuracy: 0.8213 - val_loss: 0.5503 - val_accuracy: 0.8125\n",
            "Epoch 8/10\n",
            "128/128 [==============================] - 14s 109ms/step - loss: 0.4573 - accuracy: 0.8435 - val_loss: 0.5238 - val_accuracy: 0.8097\n",
            "Epoch 9/10\n",
            "128/128 [==============================] - 14s 109ms/step - loss: 0.4002 - accuracy: 0.8677 - val_loss: 0.5020 - val_accuracy: 0.8324\n",
            "Epoch 10/10\n",
            "128/128 [==============================] - 14s 108ms/step - loss: 0.4001 - accuracy: 0.8640 - val_loss: 0.4662 - val_accuracy: 0.8381\n"
          ]
        },
        {
          "output_type": "execute_result",
          "data": {
            "text/plain": [
              "<keras.src.callbacks.History at 0x78afb2a34d00>"
            ]
          },
          "metadata": {},
          "execution_count": 38
        }
      ]
    },
    {
      "cell_type": "code",
      "source": [
        "#@title LSTM\n",
        "# Set random seed and create embedding layer (new embedding layer for each model)\n",
        "from tensorflow.keras import layers\n",
        "\n",
        "# Create LSTM model\n",
        "inputs = layers.Input(shape=(1,), dtype=\"string\")\n",
        "x = text_vectorizer(inputs)\n",
        "x = token_embed(x)\n",
        "# x = layers.LSTM(64, return_sequences=True)(x) # return vector for each word in the Tweet (you can stack RNN cells as long as return_sequences=True)\n",
        "x = layers.LSTM(64)(x) # return vector for whole sequence\n",
        "# x = layers.Dense(64, activation=\"relu\")(x) # optional dense layer on top of output of LSTM cell\n",
        "outputs = layers.Dense(num_classes, activation=\"softmax\")(x)\n",
        "model_2 = tf.keras.Model(inputs, outputs, name=\"model_2_LSTM\")\n",
        "\n",
        "model_2.compile(loss=\"sparse_categorical_crossentropy\",\n",
        "                optimizer=tf.keras.optimizers.Adam(),\n",
        "                metrics=[\"accuracy\"])\n",
        "\n",
        "# Fit feature extractor model for 3 epochs\n",
        "model_2.fit(train_dataset,\n",
        "            steps_per_epoch=int(0.1 * len(train_dataset)),\n",
        "            epochs=10,\n",
        "            validation_data=test_dataset,\n",
        "            validation_steps=int(0.1 * len(test_dataset)))"
      ],
      "metadata": {
        "colab": {
          "base_uri": "https://localhost:8080/"
        },
        "id": "QsWiKQvDyn0w",
        "outputId": "5624e6bc-2089-4a70-f0d7-bfe2195d6a63"
      },
      "execution_count": 43,
      "outputs": [
        {
          "output_type": "stream",
          "name": "stdout",
          "text": [
            "Epoch 1/10\n",
            "128/128 [==============================] - 27s 173ms/step - loss: 0.5566 - accuracy: 0.7893 - val_loss: 0.5804 - val_accuracy: 0.7983\n",
            "Epoch 2/10\n",
            "128/128 [==============================] - 19s 146ms/step - loss: 0.2594 - accuracy: 0.9182 - val_loss: 0.6015 - val_accuracy: 0.8182\n",
            "Epoch 3/10\n",
            "128/128 [==============================] - 18s 143ms/step - loss: 0.2424 - accuracy: 0.9272 - val_loss: 0.5771 - val_accuracy: 0.8438\n",
            "Epoch 4/10\n",
            "128/128 [==============================] - 19s 149ms/step - loss: 0.2199 - accuracy: 0.9302 - val_loss: 0.6944 - val_accuracy: 0.8182\n",
            "Epoch 5/10\n",
            "128/128 [==============================] - 19s 151ms/step - loss: 0.2029 - accuracy: 0.9412 - val_loss: 0.6567 - val_accuracy: 0.8295\n",
            "Epoch 6/10\n",
            "128/128 [==============================] - 19s 150ms/step - loss: 0.2091 - accuracy: 0.9373 - val_loss: 0.6261 - val_accuracy: 0.8153\n",
            "Epoch 7/10\n",
            "128/128 [==============================] - 18s 144ms/step - loss: 0.2136 - accuracy: 0.9326 - val_loss: 0.8471 - val_accuracy: 0.7869\n",
            "Epoch 8/10\n",
            "128/128 [==============================] - 18s 141ms/step - loss: 0.1867 - accuracy: 0.9399 - val_loss: 0.5635 - val_accuracy: 0.8381\n",
            "Epoch 9/10\n",
            "128/128 [==============================] - 20s 157ms/step - loss: 0.1627 - accuracy: 0.9492 - val_loss: 0.5857 - val_accuracy: 0.8324\n",
            "Epoch 10/10\n",
            "128/128 [==============================] - 19s 149ms/step - loss: 0.1581 - accuracy: 0.9517 - val_loss: 0.5594 - val_accuracy: 0.8352\n"
          ]
        },
        {
          "output_type": "execute_result",
          "data": {
            "text/plain": [
              "<keras.src.callbacks.History at 0x78af4f520730>"
            ]
          },
          "metadata": {},
          "execution_count": 43
        }
      ]
    },
    {
      "cell_type": "code",
      "source": [
        "#@title GRU\n",
        "# Build an RNN using the GRU cell\n",
        "inputs = layers.Input(shape=(1,), dtype=\"string\")\n",
        "x = text_vectorizer(inputs)\n",
        "x = token_embed(x)\n",
        "# x = layers.GRU(64, return_sequences=True) # stacking recurrent cells requires return_sequences=True\n",
        "x = layers.GRU(64)(x)\n",
        "# x = layers.Dense(64, activation=\"relu\")(x) # optional dense layer after GRU cell\n",
        "outputs = layers.Dense(num_classes, activation=\"softmax\")(x)\n",
        "model_3 = tf.keras.Model(inputs, outputs, name=\"model_3_GRU\")\n",
        "\n",
        "model_3.compile(loss=\"sparse_categorical_crossentropy\",\n",
        "                optimizer=tf.keras.optimizers.Adam(),\n",
        "                metrics=[\"accuracy\"])\n",
        "\n",
        "# Fit feature extractor model for 10 epochs\n",
        "model_3.fit(train_dataset,\n",
        "            steps_per_epoch=int(0.1 * len(train_dataset)),\n",
        "            epochs=10,\n",
        "            validation_data=test_dataset,\n",
        "            validation_steps=int(0.1 * len(test_dataset)))"
      ],
      "metadata": {
        "colab": {
          "base_uri": "https://localhost:8080/"
        },
        "id": "7jzwjIrcyxxm",
        "outputId": "df14767a-ad4b-4348-8600-db6e83b4cc2e"
      },
      "execution_count": 42,
      "outputs": [
        {
          "output_type": "stream",
          "name": "stdout",
          "text": [
            "Epoch 1/10\n",
            "128/128 [==============================] - 25s 155ms/step - loss: 0.6806 - accuracy: 0.6975 - val_loss: 0.5670 - val_accuracy: 0.8125\n",
            "Epoch 2/10\n",
            "128/128 [==============================] - 17s 135ms/step - loss: 0.3266 - accuracy: 0.8950 - val_loss: 0.5632 - val_accuracy: 0.8011\n",
            "Epoch 3/10\n",
            "128/128 [==============================] - 17s 131ms/step - loss: 0.3128 - accuracy: 0.9011 - val_loss: 0.5610 - val_accuracy: 0.8381\n",
            "Epoch 4/10\n",
            "128/128 [==============================] - 17s 132ms/step - loss: 0.2705 - accuracy: 0.9158 - val_loss: 0.6199 - val_accuracy: 0.8068\n",
            "Epoch 5/10\n",
            "128/128 [==============================] - 17s 134ms/step - loss: 0.2368 - accuracy: 0.9272 - val_loss: 0.6448 - val_accuracy: 0.7926\n",
            "Epoch 6/10\n",
            "128/128 [==============================] - 18s 140ms/step - loss: 0.2453 - accuracy: 0.9246 - val_loss: 0.5851 - val_accuracy: 0.8182\n",
            "Epoch 7/10\n",
            "128/128 [==============================] - 18s 141ms/step - loss: 0.2424 - accuracy: 0.9236 - val_loss: 0.5499 - val_accuracy: 0.8381\n",
            "Epoch 8/10\n",
            "128/128 [==============================] - 19s 151ms/step - loss: 0.2104 - accuracy: 0.9324 - val_loss: 0.5418 - val_accuracy: 0.8210\n",
            "Epoch 9/10\n",
            "128/128 [==============================] - 17s 132ms/step - loss: 0.1977 - accuracy: 0.9399 - val_loss: 0.5410 - val_accuracy: 0.8494\n",
            "Epoch 10/10\n",
            "128/128 [==============================] - 17s 133ms/step - loss: 0.2126 - accuracy: 0.9304 - val_loss: 0.4849 - val_accuracy: 0.8466\n"
          ]
        },
        {
          "output_type": "execute_result",
          "data": {
            "text/plain": [
              "<keras.src.callbacks.History at 0x78af58dfee30>"
            ]
          },
          "metadata": {},
          "execution_count": 42
        }
      ]
    },
    {
      "cell_type": "code",
      "source": [
        "#@title Bidirectional LSTM\n",
        "\n",
        "# Build a Bidirectional RNN in TensorFlow\n",
        "inputs = layers.Input(shape=(1,), dtype=\"string\")\n",
        "x = text_vectorizer(inputs)\n",
        "x = token_embed(x)\n",
        "# x = layers.Bidirectional(layers.LSTM(64, return_sequences=True))(x) # stacking RNN layers requires return_sequences=True\n",
        "x = layers.Bidirectional(layers.LSTM(64))(x) # bidirectional goes both ways so has double the parameters of a regular LSTM layer\n",
        "outputs = layers.Dense(num_classes, activation=\"softmax\")(x)\n",
        "model_4 = tf.keras.Model(inputs, outputs, name=\"model_4_Bidirectional\")\n",
        "\n",
        "model_4.compile(loss=\"sparse_categorical_crossentropy\",\n",
        "                optimizer=tf.keras.optimizers.Adam(),\n",
        "                metrics=[\"accuracy\"])\n",
        "\n",
        "# Fit feature extractor model for 10 epochs\n",
        "model_4.fit(train_dataset,\n",
        "            steps_per_epoch=int(0.1 * len(train_dataset)),\n",
        "            epochs=10,\n",
        "            validation_data=test_dataset,\n",
        "            validation_steps=int(0.1 * len(test_dataset)))"
      ],
      "metadata": {
        "colab": {
          "base_uri": "https://localhost:8080/"
        },
        "id": "cPs4RZoB0kgW",
        "outputId": "9ef19c55-9dcc-4852-a11d-4f670a86e3b6"
      },
      "execution_count": 40,
      "outputs": [
        {
          "output_type": "stream",
          "name": "stdout",
          "text": [
            "Epoch 1/10\n",
            "128/128 [==============================] - 35s 209ms/step - loss: 0.7329 - accuracy: 0.6948 - val_loss: 0.6215 - val_accuracy: 0.7756\n",
            "Epoch 2/10\n",
            "128/128 [==============================] - 22s 170ms/step - loss: 0.4909 - accuracy: 0.8320 - val_loss: 0.6022 - val_accuracy: 0.7812\n",
            "Epoch 3/10\n",
            "128/128 [==============================] - 23s 182ms/step - loss: 0.4278 - accuracy: 0.8499 - val_loss: 0.5331 - val_accuracy: 0.8040\n",
            "Epoch 4/10\n",
            "128/128 [==============================] - 22s 175ms/step - loss: 0.3775 - accuracy: 0.8699 - val_loss: 0.5339 - val_accuracy: 0.8097\n",
            "Epoch 5/10\n",
            "128/128 [==============================] - 25s 197ms/step - loss: 0.3304 - accuracy: 0.8916 - val_loss: 0.5463 - val_accuracy: 0.8153\n",
            "Epoch 6/10\n",
            "128/128 [==============================] - 24s 188ms/step - loss: 0.3195 - accuracy: 0.8960 - val_loss: 0.4963 - val_accuracy: 0.8352\n",
            "Epoch 7/10\n",
            "128/128 [==============================] - 22s 174ms/step - loss: 0.3287 - accuracy: 0.8892 - val_loss: 0.4975 - val_accuracy: 0.8324\n",
            "Epoch 8/10\n",
            "128/128 [==============================] - 22s 171ms/step - loss: 0.2976 - accuracy: 0.9014 - val_loss: 0.4801 - val_accuracy: 0.8409\n",
            "Epoch 9/10\n",
            "128/128 [==============================] - 23s 176ms/step - loss: 0.2715 - accuracy: 0.9150 - val_loss: 0.4874 - val_accuracy: 0.8466\n",
            "Epoch 10/10\n",
            "128/128 [==============================] - 23s 179ms/step - loss: 0.2771 - accuracy: 0.9119 - val_loss: 0.4590 - val_accuracy: 0.8551\n"
          ]
        },
        {
          "output_type": "execute_result",
          "data": {
            "text/plain": [
              "<keras.src.callbacks.History at 0x78af5855d2a0>"
            ]
          },
          "metadata": {},
          "execution_count": 40
        }
      ]
    },
    {
      "cell_type": "code",
      "source": [
        "#@title Pretrained Embeddings\n",
        "\n",
        "import tensorflow_hub as hub\n",
        "\n",
        "sentence_encoder_layer = hub.KerasLayer(\"https://tfhub.dev/google/universal-sentence-encoder/4\",\n",
        "                                        input_shape=[], # shape of inputs coming to our model\n",
        "                                        dtype=tf.string, # data type of inputs coming to the USE layer\n",
        "                                        trainable=False, # keep the pretrained weights (we'll create a feature extractor)\n",
        "                                        name=\"USE\")\n",
        "\n",
        "# Create model using the Sequential API\n",
        "model_5 = tf.keras.Sequential([\n",
        "  sentence_encoder_layer, # take in sentences and then encode them into an embedding\n",
        "  layers.Dense(64, activation=\"relu\"),\n",
        "  layers.Dense(num_classes, activation=\"sigmoid\")\n",
        "], name=\"model_5_USE\")\n",
        "\n",
        "# Compile model\n",
        "model_5.compile(loss=\"sparse_categorical_crossentropy\",\n",
        "                optimizer=tf.keras.optimizers.Adam(),\n",
        "                metrics=[\"accuracy\"])\n",
        "\n",
        "# Train a classifier on top of pretrained embeddings\n",
        "model_5.fit(train_dataset,\n",
        "            steps_per_epoch=int(0.1 * len(train_dataset)),\n",
        "            epochs=10,\n",
        "            validation_data=test_dataset,\n",
        "            validation_steps=int(0.1 * len(test_dataset)))"
      ],
      "metadata": {
        "colab": {
          "base_uri": "https://localhost:8080/"
        },
        "id": "532QA1jp7R8u",
        "outputId": "f69571e1-0afe-4672-c523-a5a3ba05a234"
      },
      "execution_count": 21,
      "outputs": [
        {
          "output_type": "stream",
          "name": "stdout",
          "text": [
            "Epoch 1/10\n",
            "1287/1287 [==============================] - 29s 20ms/step - loss: 0.7940 - accuracy: 0.6472 - val_loss: 0.8033 - val_accuracy: 0.6330\n",
            "Epoch 2/10\n",
            "1287/1287 [==============================] - 27s 21ms/step - loss: 0.7521 - accuracy: 0.6696 - val_loss: 0.7781 - val_accuracy: 0.6567\n",
            "Epoch 3/10\n",
            "1287/1287 [==============================] - 24s 19ms/step - loss: 0.7389 - accuracy: 0.6770 - val_loss: 0.7708 - val_accuracy: 0.6569\n",
            "Epoch 4/10\n",
            "1287/1287 [==============================] - 27s 21ms/step - loss: 0.7262 - accuracy: 0.6836 - val_loss: 0.7748 - val_accuracy: 0.6524\n",
            "Epoch 5/10\n",
            "1287/1287 [==============================] - 24s 19ms/step - loss: 0.7123 - accuracy: 0.6912 - val_loss: 0.7676 - val_accuracy: 0.6638\n",
            "Epoch 6/10\n",
            "1287/1287 [==============================] - 22s 17ms/step - loss: 0.6984 - accuracy: 0.7000 - val_loss: 0.7625 - val_accuracy: 0.6664\n",
            "Epoch 7/10\n",
            "1287/1287 [==============================] - 20s 16ms/step - loss: 0.6832 - accuracy: 0.7069 - val_loss: 0.7663 - val_accuracy: 0.6690\n",
            "Epoch 8/10\n",
            "1287/1287 [==============================] - 22s 17ms/step - loss: 0.6696 - accuracy: 0.7171 - val_loss: 0.7788 - val_accuracy: 0.6567\n",
            "Epoch 9/10\n",
            "1287/1287 [==============================] - 23s 18ms/step - loss: 0.6562 - accuracy: 0.7217 - val_loss: 0.7737 - val_accuracy: 0.6622\n",
            "Epoch 10/10\n",
            "1287/1287 [==============================] - 23s 18ms/step - loss: 0.6435 - accuracy: 0.7325 - val_loss: 0.7715 - val_accuracy: 0.6646\n"
          ]
        },
        {
          "output_type": "execute_result",
          "data": {
            "text/plain": [
              "<keras.src.callbacks.History at 0x78afaee39600>"
            ]
          },
          "metadata": {},
          "execution_count": 21
        }
      ]
    },
    {
      "cell_type": "code",
      "source": [
        "def evaluate_models(models, train_dataset, test_dataset):\n",
        "\n",
        "    results = []\n",
        "\n",
        "    for i, model in enumerate(models):\n",
        "        # Evaluate on training dataset\n",
        "        train_loss, train_accuracy = model.evaluate(train_dataset, verbose=0)\n",
        "        # Evaluate on test dataset\n",
        "        test_loss, test_accuracy = model.evaluate(test_dataset, verbose=0)\n",
        "\n",
        "        results.append({\n",
        "            \"Model\": f\"Model_{i+1}\",\n",
        "            \"Train Accuracy\": train_accuracy,\n",
        "            \"Test Accuracy\": test_accuracy\n",
        "        })\n",
        "\n",
        "    results_df = pd.DataFrame(results)\n",
        "    return results_df\n",
        "\n",
        "# List of models\n",
        "models = [model_1, model_2, model_3, model_4, model_5]\n",
        "\n",
        "# Evaluate models\n",
        "evaluation_results = evaluate_models(models, train_dataset, test_dataset)\n",
        "\n",
        "# Display the results\n",
        "print(evaluation_results)"
      ],
      "metadata": {
        "colab": {
          "base_uri": "https://localhost:8080/"
        },
        "id": "Cv1mLHOVQoao",
        "outputId": "5333b569-6ccf-4505-fca3-0dcb8982eaa1"
      },
      "execution_count": 44,
      "outputs": [
        {
          "output_type": "stream",
          "name": "stdout",
          "text": [
            "     Model  Train Accuracy  Test Accuracy\n",
            "0  Model_1        0.906699       0.819905\n",
            "1  Model_2        0.943485       0.827804\n",
            "2  Model_3        0.944116       0.841759\n",
            "3  Model_4        0.942513       0.844392\n",
            "4  Model_5        0.746240       0.664560\n"
          ]
        }
      ]
    },
    {
      "cell_type": "code",
      "source": [
        "vis = []\n",
        "\n",
        "sample = [100, 59, 592, 1126, 2771, 2432]\n",
        "\n",
        "for i in sample:\n",
        "  text = test['text'][i]\n",
        "\n",
        "  sent = test['Sentiment'][i]\n",
        "\n",
        "  pred = np.argmax(model_4.predict([text]), axis=1)[0]\n",
        "\n",
        "  prediction = label_encoder.inverse_transform([pred])[0]\n",
        "\n",
        "  vis.append([text, sent, prediction])"
      ],
      "metadata": {
        "colab": {
          "base_uri": "https://localhost:8080/"
        },
        "id": "SxdIiu6-psdG",
        "outputId": "3b752266-2c2c-41b6-f268-01bd2400807b"
      },
      "execution_count": 92,
      "outputs": [
        {
          "output_type": "stream",
          "name": "stdout",
          "text": [
            "1/1 [==============================] - 0s 69ms/step\n",
            "1/1 [==============================] - 0s 79ms/step\n",
            "1/1 [==============================] - 0s 76ms/step\n",
            "1/1 [==============================] - 0s 68ms/step\n",
            "1/1 [==============================] - 0s 69ms/step\n",
            "1/1 [==============================] - 0s 96ms/step\n"
          ]
        }
      ]
    },
    {
      "cell_type": "code",
      "source": [
        "vis"
      ],
      "metadata": {
        "colab": {
          "base_uri": "https://localhost:8080/"
        },
        "id": "nDrO0tUhvLV6",
        "outputId": "24df257e-bece-499b-bbce-a05790f260c9"
      },
      "execution_count": 93,
      "outputs": [
        {
          "output_type": "execute_result",
          "data": {
            "text/plain": [
              "[['I have summarized the most important points from the paper in this thread WEBSITE',\n",
              "  'Positive',\n",
              "  'Negative'],\n",
              " ['Breaking New Jersey officials urge residents to stock up for a two week coronavirus quarantine Just in case COVID WEBSITE',\n",
              "  'Neutral',\n",
              "  'Negative'],\n",
              " ['Another day another supermarket shelf cleared out of toilet paper Covid Coles Wendouree WEBSITE',\n",
              "  'Positive',\n",
              "  'Negative'],\n",
              " ['So started this weight loss challenge work hwvr w every grocery store ransacked I don t think I ll have a problem losing weight thanks Covid',\n",
              "  'Negative',\n",
              "  'Negative'],\n",
              " ['coronavirus be like the end of the world Especially at the grocery store omy TwitterOfTime COVID KeepSafeEveryone pleaselike',\n",
              "  'Positive',\n",
              "  'Negative'],\n",
              " ['Just going to leave this one here Full story at WEBSITE WEBSITE',\n",
              "  'Negative',\n",
              "  'Negative']]"
            ]
          },
          "metadata": {},
          "execution_count": 93
        }
      ]
    },
    {
      "cell_type": "code",
      "source": [],
      "metadata": {
        "id": "NOw5aaOUvRI9"
      },
      "execution_count": null,
      "outputs": []
    }
  ]
}